{
  "cells": [
    {
      "cell_type": "markdown",
      "metadata": {
        "id": "view-in-github",
        "colab_type": "text"
      },
      "source": [
        "<a href=\"https://colab.research.google.com/github/mehernandez87/CIS110-SU25/blob/main/Copy_of_ch03.ipynb\" target=\"_parent\"><img src=\"https://colab.research.google.com/assets/colab-badge.svg\" alt=\"Open In Colab\"/></a>"
      ]
    },
    {
      "cell_type": "markdown",
      "metadata": {
        "id": "NgH2usypNBUr"
      },
      "source": [
        "# <p style=\"font-family: Arial; font-size:1.4em;color:red;\"> Chapter 3. Decision Structures and Boolean Logic </p>\n",
        "<li> 3.1 The if Statement </li>\n",
        "<li> 3.2 The if-else Statement </li>\n",
        "<li> 3.3 Comparing Strings </li>\n",
        "<li> 3.4 Nested Decision Structures and the if-elif-else Statement </li>\n",
        "<li> 3.5 Logical Operators </li>\n",
        "<li> 3.6 Boolean Variables </li>"
      ]
    },
    {
      "cell_type": "markdown",
      "metadata": {
        "id": "7qz_XPilNBUt"
      },
      "source": [
        "***\n",
        "# <p style=\"font-family: Arial; font-size:1.4em;color:red;\"> 1. Basic If statement </p>"
      ]
    },
    {
      "cell_type": "markdown",
      "metadata": {
        "id": "RIsFldlJNBUt"
      },
      "source": [
        "\n",
        "### <a href=\"https://docs.python.org/3/reference/compound_stmts.html#the-if-statement\"> Python Document\n",
        "<img src =\"https://p76.f0.n0.cdn.getcloudapp.com/items/RBuymyQx/5b9e398d-9339-47e9-b7cc-3de7e83dee6f.jpg?v=b1c31360e564f178e39a3d7373b6979b\"> </a>"
      ]
    },
    {
      "cell_type": "markdown",
      "metadata": {
        "id": "SZw97LC9NBUu"
      },
      "source": [
        "### Boolean Expression and Relational Operators\n",
        "\n",
        "<img src=\"https://p76.f0.n0.cdn.getcloudapp.com/items/YEuBkB7B/d8fe2712-76cc-4478-bd79-7c9b8d8f5b4d.jpg?v=b1eec79ab236a39691d7f4df6a371842\">"
      ]
    },
    {
      "cell_type": "markdown",
      "metadata": {
        "id": "h8atgYpFNBUu"
      },
      "source": [
        "#### <p style=\"font-family: Arial; font-size:1.4em; background-color: yellow; color:black;\"> Problem #1.0 </p>\n",
        "Run the below code cell and figure out the basic usage of if-statement\n",
        "<br>\n"
      ]
    },
    {
      "cell_type": "code",
      "execution_count": 6,
      "metadata": {
        "id": "fIAwuDWXNBUu",
        "colab": {
          "base_uri": "https://localhost:8080/"
        },
        "outputId": "58314e9e-5548-427c-8e04-a4f9eed05d94"
      },
      "outputs": [
        {
          "output_type": "stream",
          "name": "stdout",
          "text": [
            "Enter the number5\n",
            "The number 5 is greater than 0\n"
          ]
        }
      ],
      "source": [
        "number = int(input('Enter the number'))\n",
        "\n",
        "if number > 0:\n",
        "    print (f'The number {number} is greater than 0')"
      ]
    },
    {
      "cell_type": "code",
      "execution_count": 16,
      "metadata": {
        "id": "dgLfAwi7NBUv"
      },
      "outputs": [],
      "source": [
        "if number < 0:\n",
        "    print (f'The number {number} is less than 0')"
      ]
    },
    {
      "cell_type": "markdown",
      "source": [
        "This one has no input to run"
      ],
      "metadata": {
        "id": "bp9ajY9BOV0y"
      }
    },
    {
      "cell_type": "code",
      "execution_count": 11,
      "metadata": {
        "id": "YgmR9aqhNBUv",
        "colab": {
          "base_uri": "https://localhost:8080/"
        },
        "outputId": "af531654-2998-4b0d-b78f-4d8d3b9e017a"
      },
      "outputs": [
        {
          "output_type": "stream",
          "name": "stdout",
          "text": [
            "Enter your score54\n",
            " The score  54 is less than or equal to 90\n"
          ]
        }
      ],
      "source": [
        "x = input(\"Enter your score\")\n",
        "\n",
        "if int(x) > 90:\n",
        "\tprint (\"The score \", x ,  \" is great than 90\")\n",
        "else:\n",
        "\tprint (\" The score \", x,  \"is less than or equal to 90\")\n"
      ]
    },
    {
      "cell_type": "code",
      "execution_count": 13,
      "metadata": {
        "id": "o-gP4o8ZNBUv",
        "colab": {
          "base_uri": "https://localhost:8080/"
        },
        "outputId": "9af85337-a956-492b-cb1a-4aba61635b51"
      },
      "outputs": [
        {
          "output_type": "stream",
          "name": "stdout",
          "text": [
            "Enter your score99\n",
            "The grade : A\n"
          ]
        }
      ],
      "source": [
        "score = int(input('Enter your score'))\n",
        "if score > 90:\n",
        "\tprint (\"The grade : A\")\n",
        "else:\n",
        "\tif score > 80 :   # (score < 90 ) and ( score >80)\n",
        "\t\tprint (\"The grade : B\")\n",
        "\telif score > 70:   # (score < 80 ) and ( score >70)\n",
        "\t\tprint (\"The grade : C\")\n"
      ]
    },
    {
      "cell_type": "markdown",
      "metadata": {
        "id": "kuLvB8_RNBUv"
      },
      "source": [
        "#### <p style=\"font-family: Arial; font-size:1.4em; background-color: yellow; color:black;\"> Problem #1.1 </p>\n",
        "1. Input a number\n",
        "2. Decide whether it is even or odd number\n",
        "3. Print the result ( Even or Odd)\n",
        "<br>\n"
      ]
    },
    {
      "cell_type": "code",
      "execution_count": 17,
      "metadata": {
        "id": "aclgUYUoNBUv",
        "colab": {
          "base_uri": "https://localhost:8080/"
        },
        "outputId": "de58bfaf-31a2-4a9f-c79e-c5f10eb301d8"
      },
      "outputs": [
        {
          "output_type": "stream",
          "name": "stdout",
          "text": [
            "Enter a number10\n",
            "The number 10 is even number\n"
          ]
        }
      ],
      "source": [
        "number = int(input('Enter a number'))\n",
        "if number % 2 == 0:\n",
        "    print (f'The number {number} is even number')\n",
        "else:\n",
        "    print (f'The number {number} is odd number')"
      ]
    },
    {
      "cell_type": "markdown",
      "metadata": {
        "id": "aaCe4O4INBUw"
      },
      "source": [
        "#### <p style=\"font-family: Arial; font-size:1.4em; background-color: yellow; color:black;\"> Problem #1.2 </p>\n",
        "1. Input a number\n",
        "2. Decide whether a number is less than or equal to 100\n",
        "3. Print the result ( number is less than or equal to 100 or not)\n",
        "<br>\n"
      ]
    },
    {
      "cell_type": "code",
      "execution_count": 20,
      "metadata": {
        "id": "EkV5RRUQNBUw",
        "colab": {
          "base_uri": "https://localhost:8080/"
        },
        "outputId": "0200873f-58eb-4cd4-c10a-cfa8fcb2025d"
      },
      "outputs": [
        {
          "output_type": "stream",
          "name": "stdout",
          "text": [
            "Enter a number101\n",
            " The number 101 is greater than 100\n"
          ]
        }
      ],
      "source": [
        "number = int(input('Enter a number'))\n",
        "if number <= 100:\n",
        "  print(f' The number {number} is less than or equal to 100')\n",
        "else:\n",
        "  print(f' The number {number} is greater than 100')\n",
        "# Complete the code"
      ]
    },
    {
      "cell_type": "markdown",
      "metadata": {
        "id": "rNDoORjYNBUw"
      },
      "source": [
        "#### <p style=\"font-family: Arial; font-size:1.4em; background-color: yellow; color:black;\"> Problem #1.3 </p>\n",
        "1. Input a first name\n",
        "2. Decide whether the name starts with 'A'\n",
        "3. Print the result ( True or False )\n",
        "<br>\n"
      ]
    },
    {
      "cell_type": "code",
      "execution_count": 24,
      "metadata": {
        "id": "Xv2SHPeWNBUw",
        "colab": {
          "base_uri": "https://localhost:8080/"
        },
        "outputId": "840f0297-31d9-4498-ba7d-2657b31b466b"
      },
      "outputs": [
        {
          "output_type": "stream",
          "name": "stdout",
          "text": [
            "Enter a name Michelle\n",
            "False\n"
          ]
        }
      ],
      "source": [
        "name = input('Enter a name ' )\n",
        "\n",
        "if name[0] == 'A': # complete the code\n",
        "  result = True\n",
        "else:\n",
        "  result = False\n",
        "\n",
        "print(result)\n",
        "\n"
      ]
    },
    {
      "cell_type": "markdown",
      "metadata": {
        "id": "Kh0wUcc0NBUw"
      },
      "source": [
        "#### <p style=\"font-family: Arial; font-size:1.4em; background-color: yellow; color:black;\"> Problem #1.4 </p>\n",
        "1. Set two floating number values to the variables, like\n",
        "> val1 = 12.34; val2 = 12.34000000000000001\n",
        "2. Decide whether two values are same\n",
        "3. Print the result ( True or False )\n",
        "<br>\n"
      ]
    },
    {
      "cell_type": "code",
      "execution_count": 25,
      "metadata": {
        "id": "vviETDXmNBUw",
        "colab": {
          "base_uri": "https://localhost:8080/"
        },
        "outputId": "abfb75b0-7ee2-4347-ccbc-aa408bbfa850"
      },
      "outputs": [
        {
          "output_type": "stream",
          "name": "stdout",
          "text": [
            "Two value are same\n"
          ]
        }
      ],
      "source": [
        "val1 = 12.34; val2 = 12.340000000000000001\n",
        "\n",
        "if val1 == val2:\n",
        "    print ('Two value are same')"
      ]
    },
    {
      "cell_type": "code",
      "execution_count": 29,
      "metadata": {
        "id": "67q5kIA9NBUw"
      },
      "outputs": [],
      "source": [
        "val1 = 12.34; val2 = 12.340000000001\n",
        "\n",
        "if val1 == val2:\n",
        "    print ('Two value are same')"
      ]
    },
    {
      "cell_type": "markdown",
      "source": [
        "this one did nothing..."
      ],
      "metadata": {
        "id": "AAgetMQLTvLo"
      }
    },
    {
      "cell_type": "markdown",
      "metadata": {
        "id": "L3UYYnvBNBUw"
      },
      "source": [
        "#### <p style=\"font-family: Arial; font-size:1.4em; background-color: yellow; color:black;\"> Problem #1.5 </p>\n",
        "1. Input two string values\n",
        "> strval1 = input('Enter a word')\n",
        "> strval2 = input('Enter a word')\n",
        "2. Decide which input value is greater in alphabetical order\n",
        "3. Print the greater word  \n",
        "<br>\n"
      ]
    },
    {
      "cell_type": "code",
      "execution_count": 31,
      "metadata": {
        "id": "j4CO87B-NBUw",
        "colab": {
          "base_uri": "https://localhost:8080/"
        },
        "outputId": "3101ba2c-19d1-428a-e837-6844eb8930d7"
      },
      "outputs": [
        {
          "output_type": "stream",
          "name": "stdout",
          "text": [
            "Enter a word Honesty\n",
            "Enter a word Loyalty\n",
            "The word Loyalty is greater than Honesty\n"
          ]
        }
      ],
      "source": [
        "strval1 = input('Enter a word ')\n",
        "strval2 = input('Enter a word ')\n",
        "\n",
        "# complete the code\n",
        "if strval1 > strval2:\n",
        "    print (f'The word {strval1} is greater than {strval2}')\n",
        "else:\n",
        "    print (f'The word {strval2} is greater than {strval1}')"
      ]
    },
    {
      "cell_type": "markdown",
      "metadata": {
        "id": "G2uOfz1oNBUx"
      },
      "source": [
        "#### <p style=\"font-family: Arial; font-size:1.4em; background-color: yellow; color:black;\"> Problem #1.6 </p>\n",
        "1. Input two string values\n",
        "> strval1 = input('Enter a word')\n",
        "> strval2 = input('Enter a word')\n",
        "2. Determine which input value is longer in length.\n",
        "3. Print the longer word  \n",
        "<br>\n",
        "** Use the library <font color='red'> len( ) </font>\n"
      ]
    },
    {
      "cell_type": "code",
      "execution_count": 33,
      "metadata": {
        "id": "K2oUrPEqNBUx",
        "colab": {
          "base_uri": "https://localhost:8080/"
        },
        "outputId": "ca433da7-f4cd-4cf3-e8a3-d853e4db44dc"
      },
      "outputs": [
        {
          "output_type": "stream",
          "name": "stdout",
          "text": [
            "Enter a word Trust\n",
            "Enter a word Love\n",
            "The word Trust is longer than Love\n"
          ]
        }
      ],
      "source": [
        "strval1 = input('Enter a word ')\n",
        "strval2 = input('Enter a word ')\n",
        "\n",
        "# complete the code\n",
        "if len(strval1) > len(strval2):\n",
        "    print (f'The word {strval1} is longer than {strval2}')\n",
        "elif len(strval1) < len(strval2):\n",
        "    print (f'The word {strval2} is longer than {strval1}')\n",
        "else:\n",
        "    print (f'The word {strval1} and {strval2} are same length')\n"
      ]
    },
    {
      "cell_type": "markdown",
      "metadata": {
        "id": "6yxG5eJiNBUx"
      },
      "source": [
        "## Don't forget to <font color='red'> **\"commit\"** </font> your work or <font color='red'> **\"save\"** </font> in Google Colab\n",
        "## before moving to the next section."
      ]
    },
    {
      "cell_type": "markdown",
      "metadata": {
        "id": "2kIsRufJNBUx"
      },
      "source": [
        "***\n",
        "# <p style=\"font-family: Arial; font-size:1.4em;color:red;\"> 2. if-elif-else statement </p>"
      ]
    },
    {
      "cell_type": "markdown",
      "metadata": {
        "id": "ptdm2webNBUx"
      },
      "source": [
        "<a href=\"https://docs.python.org/3/tutorial/controlflow.html#if-statements\"> <img src=\"https://p76.f0.n0.cdn.getcloudapp.com/items/4guZrZo9/7293141a-5f3f-44bc-9e97-4586b89a63dc.jpg?v=09b11b0fee8688bd799c1f90a09f723f\"> </a>"
      ]
    },
    {
      "cell_type": "markdown",
      "metadata": {
        "id": "CYtA88rrNBUx"
      },
      "source": [
        "#### <p style=\"font-family: Arial; font-size:1.4em; background-color: yellow; color:black;\"> Problem #2.0 </p>\n",
        "Run the below code cell and figure out the basic usage of if-statement\n",
        "<br>\n"
      ]
    },
    {
      "cell_type": "code",
      "execution_count": 34,
      "metadata": {
        "id": "qKJttxnqNBUx",
        "colab": {
          "base_uri": "https://localhost:8080/"
        },
        "outputId": "4e16a02f-5220-41e8-c078-bd8373d4f1d3"
      },
      "outputs": [
        {
          "output_type": "stream",
          "name": "stdout",
          "text": [
            "Enter your score87\n",
            "The grade : B\n"
          ]
        }
      ],
      "source": [
        "# Take one user input\n",
        "# if it is even number, print\n",
        "# otherwise, do nothing\n",
        "\n",
        "score = int(input('Enter your score'))\n",
        "if score > 90:\n",
        "\tprint (\"The grade : A\")\n",
        "elif score > 80 :   # (score < 90 ) and ( score >80)\n",
        "\tprint (\"The grade : B\")\n",
        "elif score > 70:   # (score < 80 ) and ( score >70)\n",
        "\tprint (\"The grade : C\")\n"
      ]
    },
    {
      "cell_type": "code",
      "execution_count": 35,
      "metadata": {
        "id": "49j18XqhNBUx",
        "colab": {
          "base_uri": "https://localhost:8080/"
        },
        "outputId": "12d0ea08-59e5-4c22-c91f-dacb43cfb2d2"
      },
      "outputs": [
        {
          "output_type": "stream",
          "name": "stdout",
          "text": [
            "Enter your score98\n",
            "The score  98  is great than 90\n"
          ]
        }
      ],
      "source": [
        "x = int(input(\"Enter your score\"))\n",
        "\n",
        "if x > 90:\n",
        "\tprint (\"The score \", x ,  \" is great than 90\")\n",
        "elif x > 80:\n",
        "\tprint (\"The score \", x ,  \" is great than 80\")\n",
        "else:\n",
        "\tprint (\" The score \", x,  \"is less than or equal to 80\")\n"
      ]
    },
    {
      "cell_type": "markdown",
      "metadata": {
        "id": "Hirbl_HSNBUx"
      },
      "source": [
        "#### <p style=\"font-family: Arial; font-size:1.4em; background-color: yellow; color:black;\"> Problem #2.1 </p>\n",
        "1. Input a score\n",
        "2. Determine the grade base on the following policy\n",
        "- A if greater than 90\n",
        "- B if greater than 80 and less than or equal 90\n",
        "- C if greater than 70 and less than or equal 80\n",
        "- D if greater than 60 and less than or equal 70\n",
        "- F if less than 60\n",
        "3. Print the final grade\n",
        "<br>\n"
      ]
    },
    {
      "cell_type": "code",
      "execution_count": 42,
      "metadata": {
        "id": "TRK9PrSUNBUx",
        "colab": {
          "base_uri": "https://localhost:8080/"
        },
        "outputId": "85a1cc23-017b-42b3-f954-4d177c86701e"
      },
      "outputs": [
        {
          "output_type": "stream",
          "name": "stdout",
          "text": [
            "Enter a score 99\n",
            "The grade: A\n"
          ]
        }
      ],
      "source": [
        "score = int(input('Enter a score '))\n",
        "if score > 90:\n",
        "    print (\"The grade: A\")\n",
        "elif score > 80:\n",
        "    print (\"The grade: B\")\n",
        "elif score > 70:\n",
        "    print (\"The grade: C\")\n",
        "elif score > 60:\n",
        "    print (\"The grade: D\")\n",
        "else:\n",
        "    print (\"The grade: F\")\n",
        "\n",
        "# complete the code\n"
      ]
    },
    {
      "cell_type": "markdown",
      "metadata": {
        "id": "7U7AfRW6NBUy"
      },
      "source": [
        "<br>\n",
        "#### <p style=\"font-family: Arial; font-size:1.4em; background-color: yellow; color:black;\"> Problem #2.2 </p>\n",
        "\n",
        "1. Input a number\n",
        "2. Decide whether it is even ,odd number or zero\n",
        "3. Print the result ( Even, Odd, or Zero)\n",
        "\n",
        "> Use the if-elif-else statement\n"
      ]
    },
    {
      "cell_type": "code",
      "execution_count": 45,
      "metadata": {
        "id": "an2TZuL6NBUy",
        "colab": {
          "base_uri": "https://localhost:8080/"
        },
        "outputId": "b7630d4f-f6de-4583-de95-7d70271c6f6b"
      },
      "outputs": [
        {
          "output_type": "stream",
          "name": "stdout",
          "text": [
            "Enter a number 0\n",
            "The number 0 is zero\n"
          ]
        }
      ],
      "source": [
        "number = int(input('Enter a number '))\n",
        "if number == 0:\n",
        "    print (f'The number {number} is zero')\n",
        "elif number % 2 == 0:\n",
        "    print (f'The number {number} is even')\n",
        "else:\n",
        "    print (f'The number {number} is odd')\n",
        "\n",
        "# complete the code\n"
      ]
    },
    {
      "cell_type": "markdown",
      "metadata": {
        "id": "-DBrGwtANBUy"
      },
      "source": [
        "#### <p style=\"font-family: Arial; font-size:1.4em; background-color: yellow; color:black;\"> Problem #2.3 </p>\n",
        "\n",
        "1. Input a number\n",
        "2. Decide whether it is  \n",
        ">  Case 1: number < 0 <br>\n",
        ">  Case 2: 0 <= number < 100 or <br>\n",
        ">  Case 3: number > 100\n",
        "3. Print the result ( Case 1, 2, or 3)\n",
        "\n",
        "> Use the if-elif-else statement\n",
        "\n",
        "<font color='red'> ** Do not use the \"Logical Opertors\" (and, or, not). Use only if-elif-else with single condition.\n",
        "<br> No need to use the condition like 0 <= number < 100 when you use \"elif\" statement ** </font>\n"
      ]
    },
    {
      "cell_type": "code",
      "execution_count": 48,
      "metadata": {
        "id": "1ckmWRIdNBUy",
        "colab": {
          "base_uri": "https://localhost:8080/"
        },
        "outputId": "00f8902e-fd3e-47d8-c601-dae26b32bd07"
      },
      "outputs": [
        {
          "output_type": "stream",
          "name": "stdout",
          "text": [
            "Enter a number 105\n",
            "Case 3\n"
          ]
        }
      ],
      "source": [
        "number = int(input('Enter a number '))\n",
        "# complete the code\n",
        "if number < 0:\n",
        "  print ('Case 1')\n",
        "elif number < 100:\n",
        "  print ('Case 2')\n",
        "else:\n",
        "  print ('Case 3')"
      ]
    },
    {
      "cell_type": "markdown",
      "metadata": {
        "id": "x07Ph9qfNBUy"
      },
      "source": [
        "## Don't forget to <font color='red'> **\"commit\"** </font> your work or <font color='red'> **\"save\"** </font> in Google Colab\n",
        "## before moving to the next section."
      ]
    },
    {
      "cell_type": "markdown",
      "metadata": {
        "id": "Na8G3ivENBUy"
      },
      "source": [
        "***\n",
        "# <p style=\"font-family: Arial; font-size:1.4em;color:red;\"> 3. Nested if statement </p>"
      ]
    },
    {
      "cell_type": "markdown",
      "metadata": {
        "id": "Bw9lI6ZlNBUy"
      },
      "source": [
        "<img src=\"https://nimbus-screenshots.s3.amazonaws.com/s/40f9cb96e28bea9192302328e49fd175.png\" width=720>"
      ]
    },
    {
      "cell_type": "code",
      "execution_count": 49,
      "metadata": {
        "id": "JvGVWn3sNBUy",
        "outputId": "a7b25e49-0438-4dfa-dd02-17df983aec78",
        "colab": {
          "base_uri": "https://localhost:8080/"
        }
      },
      "outputs": [
        {
          "output_type": "stream",
          "name": "stdout",
          "text": [
            "Enter your number500\n",
            "500  is greater than or equal to 100\n"
          ]
        }
      ],
      "source": [
        "\n",
        "usernum = int(input(\"Enter your number\"))\n",
        "\n",
        "if usernum < 50:\n",
        "\tprint (usernum, \" is less than 50\")\n",
        "else:\n",
        "\tif usernum < 100:\n",
        "\t\tprint (usernum, \" is greater than or equal to 50 and less than 100\")\n",
        "\telse:\n",
        "\t\tprint (usernum, \" is greater than or equal to 100\")\n"
      ]
    },
    {
      "cell_type": "code",
      "execution_count": 51,
      "metadata": {
        "id": "_PTnp83kNBUz",
        "outputId": "e6ba0f39-6946-4fcc-e7ab-3f7c5a83fbd4",
        "colab": {
          "base_uri": "https://localhost:8080/"
        }
      },
      "outputs": [
        {
          "output_type": "stream",
          "name": "stdout",
          "text": [
            "3\n",
            "3  is odd number\n"
          ]
        }
      ],
      "source": [
        "import random\n",
        "\n",
        "number = random.randint(0, 100)\n",
        "print (number)\n",
        "\n",
        "if (number % 2 == 0):\n",
        "\tprint ( number, \" is even number\")\n",
        "else:\n",
        "\tprint ( number, \" is odd number\")"
      ]
    },
    {
      "cell_type": "markdown",
      "metadata": {
        "id": "SEldcuMaNBU7"
      },
      "source": [
        "#### <p style=\"font-family: Arial; font-size:1.4em; background-color: yellow; color:black;\"> Problem #3.1 </p>\n",
        "\n",
        "1. Make the if statement for the below flowchart\n",
        "> Use the \"nested if\" statement. Do not use \"elif\"\n",
        "\n",
        "<font color='red'> ** Do not use the \"elif\" if-elif-else strucutre. Use the Nested if statement\n",
        "</font>\n",
        "![Nested If statement Flow Chart](https://github.com/AVC-CS/PythonCH03/blob/main/FC31.png?raw=1)\n"
      ]
    },
    {
      "cell_type": "code",
      "execution_count": 57,
      "metadata": {
        "id": "yQrUIVz4NBU8",
        "colab": {
          "base_uri": "https://localhost:8080/"
        },
        "outputId": "90f01473-4f51-4605-fd40-cc59f24c2cc6"
      },
      "outputs": [
        {
          "output_type": "stream",
          "name": "stdout",
          "text": [
            "Enter a number45\n",
            "Number 45 is greater than or equal to 0 and less than 100\n"
          ]
        }
      ],
      "source": [
        "number = int(input('Enter a number'))\n",
        "\n",
        "if number < 0:\n",
        "    print (f'Number {number} is negative')\n",
        "else:\n",
        "    if number < 100:\n",
        "        print (f'Number {number} is greater than or equal to 0 and less than 100')\n",
        "    else:\n",
        "        print (f'Number {number} is greater than 100')\n"
      ]
    },
    {
      "cell_type": "markdown",
      "metadata": {
        "id": "x_W_3TN4NBU8"
      },
      "source": [
        "#### <p style=\"font-family: Arial; font-size:1.4em; background-color: yellow; color:black;\"> Problem #3.2 </p>\n",
        "\n",
        "1. Input a number\n",
        "2. Decide the range to which belongs\n",
        ">  Range 1: less than 0  <br>\n",
        ">  Range 2: 0 <= number < 100 <br>\n",
        ">  Range 3: number >= 100 <br>\n",
        "3. Print the result ( Range 1, 2, or 3)\n",
        "\n",
        "> Use the Nested if statement\n",
        "\n",
        "<font color='red'> ** Do not use the \"Logical Opertors\" (and, or, not) and elif statement. Use only Nested if.\n",
        "</font>\n"
      ]
    },
    {
      "cell_type": "code",
      "execution_count": 60,
      "metadata": {
        "id": "q-TyDxKRNBU8",
        "colab": {
          "base_uri": "https://localhost:8080/"
        },
        "outputId": "1941cce9-6518-4922-de91-50ed6ec82ba9"
      },
      "outputs": [
        {
          "output_type": "stream",
          "name": "stdout",
          "text": [
            "Enter a number500\n",
            "Number 500 is in range 3\n"
          ]
        }
      ],
      "source": [
        "number = int(input('Enter a number'))\n",
        "\n",
        "if number < 0:\n",
        "    range = 1\n",
        "else:\n",
        "    if number < 100: # complete the code\n",
        "        range = 2\n",
        "    else:\n",
        "        range = 3\n",
        "\n",
        "print (f'Number {number} is in range {range}')"
      ]
    },
    {
      "cell_type": "markdown",
      "metadata": {
        "id": "BIPcNbp_NBU8"
      },
      "source": [
        "#### <p style=\"font-family: Arial; font-size:1.4em; background-color: yellow; color:black;\"> Problem #3.3 </p>\n",
        "\n",
        "1. Input three numbers\n",
        "2. Decide the smallest number\n",
        "3. Print the smallest number\n",
        "\n",
        "> Use the Nested if statement. Implement the same code as the flow chart <br>\n",
        "> The purpose of this code is to practice \"NESTED IF\" <br>\n",
        "<font color='red'> ** Do not use the \"Logical Opertors\" (and, or, not) and elif statement. Use only Nested if.\n",
        "</font>\n",
        "\n",
        "![Flow Chart: Find the min value](https://github.com/AVC-CS/PythonCH03/blob/main/FC33.png?raw=1)"
      ]
    },
    {
      "cell_type": "code",
      "execution_count": 61,
      "metadata": {
        "id": "uSxFvOZwNBU8",
        "colab": {
          "base_uri": "https://localhost:8080/"
        },
        "outputId": "5369b8d2-3416-4df8-f681-a73085e6df11"
      },
      "outputs": [
        {
          "output_type": "stream",
          "name": "stdout",
          "text": [
            "Enter a number 85\n",
            "Enter a number 67\n",
            "Enter a number 109\n",
            "The smallest number is 67\n"
          ]
        }
      ],
      "source": [
        "num1 = int(input('Enter a number '))\n",
        "num2 = int(input('Enter a number '))\n",
        "num3 = int(input('Enter a number '))\n",
        "\n",
        "if num1 < num2:\n",
        "    # Complete the code. Only use Nested-If structure. If - else\n",
        "    # No and/or\n",
        "    # No elif\n",
        "  if num1 <num3:\n",
        "    smallest = num1\n",
        "  else:\n",
        "    smallest = num3\n",
        "else:\n",
        "  if num2 < num3:\n",
        "    smallest = num2\n",
        "  else:\n",
        "    smallest = num3\n",
        "\n",
        "print (f'The smallest number is {smallest}')"
      ]
    },
    {
      "cell_type": "markdown",
      "metadata": {
        "id": "WJYEk4eYNBU8"
      },
      "source": [
        "## Don't forget to <font color='red'> **\"commit\"** </font> your work or <font color='red'> **\"save\"** </font> in Google Colab\n",
        "## before moving to the next section."
      ]
    },
    {
      "cell_type": "markdown",
      "metadata": {
        "id": "xWdrihuLNBU8"
      },
      "source": [
        "***\n",
        "# <p style=\"font-family: Arial; font-size:1.4em;color:red;\"> 4. Logical Operators</p>\n",
        "\n",
        "<img src=\"https://p76.f0.n0.cdn.getcloudapp.com/items/nOu9XRmk/fddfa174-c3fd-4a15-815c-513e0d162889.jpg?v=1d8df7291331860f72b8eaf47140b26c\">\n"
      ]
    },
    {
      "cell_type": "markdown",
      "metadata": {
        "id": "_DwMuC9wNBU8"
      },
      "source": [
        "#### <p style=\"font-family: Arial; font-size:1.4em; background-color: yellow; color:black;\"> Problem #4.1 </p>\n",
        "#### Check the score is valid.\n",
        "> The valid condition: score must be greager than 0 and less than or equal to 100\n"
      ]
    },
    {
      "cell_type": "code",
      "execution_count": 63,
      "metadata": {
        "id": "-QkohFYtNBU9",
        "colab": {
          "base_uri": "https://localhost:8080/"
        },
        "outputId": "6f1d88d8-f5d2-441d-f0ca-e04ea29fffa9"
      },
      "outputs": [
        {
          "output_type": "stream",
          "name": "stdout",
          "text": [
            "Enter your score101\n",
            "Score is out of range\n"
          ]
        }
      ],
      "source": [
        "score = int(input(\"Enter your score\"))\n",
        "\n",
        "if ( score < 0 or score > 100):\n",
        "\tprint (\"Score is out of range\")\n"
      ]
    },
    {
      "cell_type": "code",
      "execution_count": 66,
      "metadata": {
        "id": "sHsrSIjvNBU9",
        "colab": {
          "base_uri": "https://localhost:8080/"
        },
        "outputId": "43eb2752-24e2-41c5-bc09-38fb3e1ebe0c"
      },
      "outputs": [
        {
          "output_type": "stream",
          "name": "stdout",
          "text": [
            "Enter your score900\n",
            "900  is less than 0 or greater than 100\n"
          ]
        }
      ],
      "source": [
        "# Take the score\n",
        "# Check the scoer is between 0 and 100\n",
        "#\n",
        "score = int(input(\"Enter your score\"))\n",
        "if score >= 0 and score <= 100:\n",
        "\tprint (score, \" is between 0 and 100 \")\n",
        "else:\n",
        "\tprint (score, \" is less than 0 or greater than 100\")"
      ]
    },
    {
      "cell_type": "markdown",
      "metadata": {
        "id": "V3N6o19gNBU9"
      },
      "source": [
        "#### <p style=\"font-family: Arial; font-size:1.4em; background-color: yellow; color:black;\"> Problem #4.2 </p>\n",
        "#### Make the if-elif statement to do the following actions in the table\n",
        "> Condition A: num1 > 0 <br>\n",
        "> Condition B: num2 > 0 <br>\n",
        "\n",
        "..    | Condition A True | Condition A False |\n",
        "---|---|---|\n",
        "Condition B True | print ('Two values are positive') | print ('num2 is positive') |\n",
        "Condition B False | print ('num1 is positive) | |\n"
      ]
    },
    {
      "cell_type": "code",
      "execution_count": 73,
      "metadata": {
        "id": "aQ_Ns1hyNBU9",
        "colab": {
          "base_uri": "https://localhost:8080/"
        },
        "outputId": "e0c7dc27-145c-431e-9954-955f6465eb76"
      },
      "outputs": [
        {
          "output_type": "stream",
          "name": "stdout",
          "text": [
            "Enter the num1 65\n",
            "Enter the num2 -10\n",
            "num1 is positive\n"
          ]
        }
      ],
      "source": [
        "num1 = int(input('Enter the num1 '))\n",
        "num2 = int(input('Enter the num2 '))\n",
        "\n",
        "if num1 > 0 and num2 > 0:\n",
        "    print ('Two values are positive')\n",
        "elif num1 > 0:\n",
        "    print ('num1 is positive')\n",
        "elif num2 >0:\n",
        "    print ('num2 is positive')\n",
        "else:\n",
        "    print ('Neither is positive')\n",
        "# complete the code\n",
        "\n"
      ]
    },
    {
      "cell_type": "markdown",
      "metadata": {
        "id": "Kel4MtwKNBU9"
      },
      "source": [
        "#### <p style=\"font-family: Arial; font-size:1.4em; background-color: yellow; color:black;\"> Problem #4.3 </p>\n",
        "#### Make the \"Nested if statement\" structure to do the following actions in the table\n",
        "> Condition A: num1 > 0 <br>\n",
        "> Condition B: num2 > 0 <br>\n",
        "\n",
        "..    | Condition A True | Condition A False |\n",
        "---|---|---|\n",
        "Condition B True | print ('Two values are positive') | print ('num2 is positive') |\n",
        "Condition B False | print ('num1 is positive) | |\n"
      ]
    },
    {
      "cell_type": "code",
      "execution_count": 76,
      "metadata": {
        "id": "qRaduWAbNBU9",
        "colab": {
          "base_uri": "https://localhost:8080/"
        },
        "outputId": "343c1fb9-619f-4911-f7d4-3ba7715335e1"
      },
      "outputs": [
        {
          "output_type": "stream",
          "name": "stdout",
          "text": [
            "Enter the num1 -0\n",
            "Enter the num2 99\n",
            "num2 is positive\n"
          ]
        }
      ],
      "source": [
        "num1 = int(input('Enter the num1 '))\n",
        "num2 = int(input('Enter the num2 '))\n",
        "\n",
        "if num1 > 0:\n",
        "    # complete the code\n",
        "    if num2 > 0:\n",
        "      print ('Two values are positive')\n",
        "    else:\n",
        "     print('num1 is positive')\n",
        "else:\n",
        "    if num2 > 0:\n",
        "      print ('num2 is positive')\n",
        "    else:\n",
        "      print ('Neither is positive')\n",
        "    # complete the code"
      ]
    },
    {
      "cell_type": "markdown",
      "metadata": {
        "id": "p8us-qIYNBU-"
      },
      "source": [
        "#### <p style=\"font-family: Arial; font-size:1.4em; background-color: yellow; color:black;\"> Problem #4.4 </p>\n",
        "#### DeMorgen's Law\n",
        "#### <font color='red'> not ( A and B) = not A or not B </font>\n",
        "\n",
        "> Condition A: num1 > 0 <br>\n",
        "> Condition B: num2 > 0 <br>\n",
        "\n",
        "> not ( num1 > 0 and num2 > 0) <br>\n",
        "- is the same as <br>\n",
        "> not (num1 > 0) or not (num2 > 0) <br>\n",
        "- is the same as <br>\n",
        "> num1 <= 0 or num2 <= 0 <br>\n",
        "***\n",
        "#### Make the same if-statement using DeMorgen's Law <font color='red'> without \"not\" operator </font>\n",
        "\n",
        "> if not (num1 > 0 and num2 > 0):"
      ]
    },
    {
      "cell_type": "code",
      "execution_count": 77,
      "metadata": {
        "id": "wRi5fQjyNBU-",
        "colab": {
          "base_uri": "https://localhost:8080/"
        },
        "outputId": "025917e9-dd29-4ef2-b675-328e6d839226"
      },
      "outputs": [
        {
          "output_type": "stream",
          "name": "stdout",
          "text": [
            "One of two values are less than 0\n",
            "One of two values are less than 0\n"
          ]
        }
      ],
      "source": [
        "num1 = -10\n",
        "num2 = 20\n",
        "\n",
        "if not (num1 > 0 and num2 > 0): # complete your code\n",
        "    print ('One of two values are less than 0')\n",
        "if num1 <= 0 or num2 <= 0:\n",
        "    print ('One of two values are less than 0')"
      ]
    },
    {
      "cell_type": "markdown",
      "metadata": {
        "id": "ZPfbqGNcNBU-"
      },
      "source": [
        "#### <p style=\"font-family: Arial; font-size:1.4em; background-color: yellow; color:black;\"> Problem #4.5 </p>\n",
        "#### <font color='red'> number > 0 and number < 100  </font>\n",
        "- same as\n",
        "#### <font color='red'> 0 < number < 100 </font>\n",
        "\n",
        "#### Make the same if-statement without <font color='red'> \"and\" </font> operator\n",
        "\n",
        "> if num1 > 0 and num1 < 100: <br>\n",
        "***\n",
        "> 👉 <font color='red'> if 0 < num1 < 100: </font>"
      ]
    },
    {
      "cell_type": "code",
      "execution_count": 79,
      "metadata": {
        "id": "jeF2p6ATNBU_",
        "colab": {
          "base_uri": "https://localhost:8080/"
        },
        "outputId": "003a1023-8755-4e1b-91d0-997a5f99cc3f"
      },
      "outputs": [
        {
          "output_type": "stream",
          "name": "stdout",
          "text": [
            "Enter a number45\n",
            "num1 is greater than 0 and less than 100\n"
          ]
        }
      ],
      "source": [
        "num1 = int(input('Enter a number'))\n",
        "\n",
        "if 0 < num1 < 100: # complete the same condition without \"and\" operator as num1 > 0 and num1 < 100\n",
        "# if num1 > 0 and num1 < 100:\n",
        "\n",
        "    print ('num1 is greater than 0 and less than 100')"
      ]
    },
    {
      "cell_type": "markdown",
      "metadata": {
        "id": "MhtK9b06NBU_"
      },
      "source": [
        "#### <p style=\"font-family: Arial; font-size:1.4em; background-color: yellow; color:black;\"> Problem #4.6 </p>\n",
        "#### Complete the code to check the input number is greater than 50 and leass than 100\n",
        "\n",
        "> 👉 <font color='red'> input value must be greater than 50 and less than 100 </font> <br>\n",
        "> if True, print it <br>\n",
        "> No requirement. What is your preference to make the if-condition?"
      ]
    },
    {
      "cell_type": "code",
      "execution_count": 80,
      "metadata": {
        "id": "CFNnSNpiNBU_",
        "colab": {
          "base_uri": "https://localhost:8080/"
        },
        "outputId": "034fd9ef-b9a8-47e3-9a9f-a58daaac83d3"
      },
      "outputs": [
        {
          "output_type": "stream",
          "name": "stdout",
          "text": [
            "Enter the number96\n",
            "96  is greater than 50 and less than 100\n"
          ]
        }
      ],
      "source": [
        "number = int(input('Enter the number'))\n",
        "\n",
        "if number > 50 and number < 100: # complete the code\n",
        "    print (number, ' is greater than 50 and less than 100')"
      ]
    },
    {
      "cell_type": "markdown",
      "source": [
        "Other way it could be done:\n",
        "if 50 < number < 100:"
      ],
      "metadata": {
        "id": "pGXDisPRiBba"
      }
    },
    {
      "cell_type": "markdown",
      "metadata": {
        "id": "GFYp-6DDNBU_"
      },
      "source": [
        "#### <p style=\"font-family: Arial; font-size:1.4em; background-color: yellow; color:black;\"> Problem #4.7 </p>\n",
        "#### Consider the following code. The if-condition is True or False?\n",
        "\n",
        "\n",
        "> 👉  What value of num will make the condition True?<br>\n",
        "```\n",
        "num = 50\n",
        "if num < 0 and num > 100:\n",
        "     print ('condition is True')\n",
        "```\n",
        "#### What value of num' will make the condition True?\n"
      ]
    },
    {
      "cell_type": "code",
      "execution_count": 82,
      "metadata": {
        "id": "1KMfM7PhNBVA"
      },
      "outputs": [],
      "source": [
        "num = 99 # set your value to num to make the conditino True\n",
        "\n",
        "if num < 0 and num > 100:\n",
        "    print ('Condition True')"
      ]
    },
    {
      "cell_type": "markdown",
      "source": [
        "No value will ever made this condition true because a number cannot be both less than 0 and greater than 100 at the same time."
      ],
      "metadata": {
        "id": "e0mRMk7ZitlA"
      }
    },
    {
      "cell_type": "markdown",
      "source": [],
      "metadata": {
        "id": "59Lh6oJOimx2"
      }
    },
    {
      "cell_type": "markdown",
      "metadata": {
        "id": "pHr0pxe3NBVA"
      },
      "source": [
        "## Don't forget to <font color='red'> **\"commit\"** </font> your work or <font color='red'> **\"save\"** </font> in Google Colab\n",
        "## before moving to the next section."
      ]
    },
    {
      "cell_type": "markdown",
      "metadata": {
        "id": "k0nroTFcNBVA"
      },
      "source": [
        "***\n",
        "# <p style=\"font-family: Arial; font-size:1.4em;color:red;\"> 5. Short-hand if statement </p>"
      ]
    },
    {
      "cell_type": "markdown",
      "metadata": {
        "id": "wsesZgu5NBVA"
      },
      "source": [
        "#### <p style=\"font-family: Arial; font-size:1.4em; background-color: yellow; color:black;\"> Problem #5.1 </p>\n",
        "#### Run all the below cells and check out the results\n",
        "\n",
        "\n",
        "> 👉  What is the main adavantage of short-hand if statement?\n",
        "```\n",
        "num = 50\n",
        "flag = 1 if num > 0 else 0\n",
        "```\n"
      ]
    },
    {
      "cell_type": "markdown",
      "metadata": {
        "id": "waEol5sXNBVA"
      },
      "source": [
        "### Short Hand if"
      ]
    },
    {
      "cell_type": "code",
      "execution_count": 83,
      "metadata": {
        "id": "E3yVoV-mNBVA",
        "colab": {
          "base_uri": "https://localhost:8080/"
        },
        "outputId": "2c9f26d4-e891-47d6-a26a-03eb108ee535"
      },
      "outputs": [
        {
          "output_type": "stream",
          "name": "stdout",
          "text": [
            "100  is less than  90\n"
          ]
        }
      ],
      "source": [
        "score1 = 100\n",
        "score2 = 90\n",
        "\n",
        "if ( score1 > score2): print( score1, \" is less than \", score2)"
      ]
    },
    {
      "cell_type": "markdown",
      "metadata": {
        "id": "bFW5giwqNBVB"
      },
      "source": [
        "### Short Hand if else\n",
        "\n",
        "```\n",
        "if num % 2 == 0:\n",
        "    even = 1\n",
        "else:\n",
        "    even = 0\n",
        "    \n",
        "> This code is the same as below"
      ]
    },
    {
      "cell_type": "code",
      "execution_count": 84,
      "metadata": {
        "id": "RGQmkUW2NBVB",
        "colab": {
          "base_uri": "https://localhost:8080/"
        },
        "outputId": "1bddf107-ac67-4310-d4d8-1851f77155f6"
      },
      "outputs": [
        {
          "output_type": "execute_result",
          "data": {
            "text/plain": [
              "1"
            ]
          },
          "metadata": {},
          "execution_count": 84
        }
      ],
      "source": [
        "num  = 22\n",
        "even = 1 if num % 2 == 0 else 0\n",
        "even"
      ]
    },
    {
      "cell_type": "code",
      "execution_count": 85,
      "metadata": {
        "id": "mEGGnVkGNBVB",
        "colab": {
          "base_uri": "https://localhost:8080/"
        },
        "outputId": "6edad597-aba5-4306-81ac-56e36a2afd89"
      },
      "outputs": [
        {
          "output_type": "stream",
          "name": "stdout",
          "text": [
            "100  is greater than 90\n"
          ]
        }
      ],
      "source": [
        "print (score2, \" is greater than \", score1) if ( score1 < score2) else print(score1, \" is greater than\", score2)"
      ]
    },
    {
      "cell_type": "markdown",
      "metadata": {
        "id": "Y6lniC1ZNBVB"
      },
      "source": [
        "### The following code has error since there is no else part"
      ]
    },
    {
      "cell_type": "code",
      "execution_count": 86,
      "metadata": {
        "id": "zPb1jbx4NBVB"
      },
      "outputs": [],
      "source": [
        "# Error\n",
        "# print (score2, \" is greater than \", score1) if ( score1 < score2)"
      ]
    },
    {
      "cell_type": "markdown",
      "metadata": {
        "id": "HYx0DX3VNBVB"
      },
      "source": [
        "#### if val is even flag =0, otherwise 1"
      ]
    },
    {
      "cell_type": "code",
      "execution_count": 87,
      "metadata": {
        "id": "40Y6G9LnNBVB",
        "outputId": "6943de24-7252-40c5-8fb6-7c335d542013",
        "colab": {
          "base_uri": "https://localhost:8080/"
        }
      },
      "outputs": [
        {
          "output_type": "stream",
          "name": "stdout",
          "text": [
            "1\n"
          ]
        }
      ],
      "source": [
        "val = 11\n",
        "\n",
        "flag = 0 if val % 2 == 0 else 1\n",
        "print (flag)"
      ]
    },
    {
      "cell_type": "markdown",
      "metadata": {
        "id": "HpGOSemPNBVC"
      },
      "source": [
        "#### <p style=\"font-family: Arial; font-size:1.4em; background-color: yellow; color:black;\"> Problem #5.2 </p>\n",
        "#### Run all the below cells and check out the <font color='red'> results </font>\n",
        "\n",
        "\n",
        "> 👉  Check out the \"returned\" value from the conidtion\n",
        "```\n",
        "num > 0 and num < 200 and 99\n",
        "```\n"
      ]
    },
    {
      "cell_type": "markdown",
      "metadata": {
        "id": "DWU5pNFwNBVC"
      },
      "source": [
        "#### And operator will return the last term if all the previous terms are True\n",
        "#### if the previous terms are not True, the first false term will be returned"
      ]
    },
    {
      "cell_type": "code",
      "execution_count": 88,
      "metadata": {
        "id": "8oPnGYWyNBVC",
        "outputId": "f85e317e-c25d-4735-f169-cdda1946181f",
        "colab": {
          "base_uri": "https://localhost:8080/"
        }
      },
      "outputs": [
        {
          "output_type": "execute_result",
          "data": {
            "text/plain": [
              "False"
            ]
          },
          "metadata": {},
          "execution_count": 88
        }
      ],
      "source": [
        "True and False and True # will return False"
      ]
    },
    {
      "cell_type": "code",
      "execution_count": 89,
      "metadata": {
        "id": "srs2HIOgNBVC",
        "colab": {
          "base_uri": "https://localhost:8080/"
        },
        "outputId": "09ec96f3-1c08-4529-ed4a-b50fe25623eb"
      },
      "outputs": [
        {
          "output_type": "execute_result",
          "data": {
            "text/plain": [
              "True"
            ]
          },
          "metadata": {},
          "execution_count": 89
        }
      ],
      "source": [
        "True and True and True # will return True"
      ]
    },
    {
      "cell_type": "code",
      "execution_count": 90,
      "metadata": {
        "id": "mbVmXY9ANBVC"
      },
      "outputs": [],
      "source": [
        "A = 10 ; B = 5; C = 0\n",
        "\n",
        "A and B and C   # will return 0. It treated as False\n",
        "\n",
        "if A and B and C:\n",
        "    print(C)    # not printed since the condition is False"
      ]
    },
    {
      "cell_type": "code",
      "execution_count": 91,
      "metadata": {
        "id": "4oFyWOd8NBVC",
        "outputId": "6809e465-586f-40bf-c76e-f45858663119",
        "colab": {
          "base_uri": "https://localhost:8080/"
        }
      },
      "outputs": [
        {
          "output_type": "execute_result",
          "data": {
            "text/plain": [
              "False"
            ]
          },
          "metadata": {},
          "execution_count": 91
        }
      ],
      "source": [
        "num1 = 10; num2 = 20; num3 = -5\n",
        "\n",
        "num1 == 10 and num2 < 100 and num3 > 0\n",
        "# will return false since the last condition is false"
      ]
    },
    {
      "cell_type": "code",
      "execution_count": 92,
      "metadata": {
        "id": "Ri4xp0EeNBVC",
        "colab": {
          "base_uri": "https://localhost:8080/"
        },
        "outputId": "99b19f9a-cb17-4f42-d6bc-90763e2c8ecd"
      },
      "outputs": [
        {
          "output_type": "execute_result",
          "data": {
            "text/plain": [
              "99"
            ]
          },
          "metadata": {},
          "execution_count": 92
        }
      ],
      "source": [
        "num1 = 10; num2 = 20;\n",
        "\n",
        "num1 == 10 and num2 < 100 and 99\n",
        "# will return 99 since all the conditions except the last one is True"
      ]
    },
    {
      "cell_type": "code",
      "execution_count": 93,
      "metadata": {
        "id": "i69yfcgXNBVC",
        "colab": {
          "base_uri": "https://localhost:8080/"
        },
        "outputId": "ce2c2a75-4da2-4096-9127-1b254612b83c"
      },
      "outputs": [
        {
          "output_type": "execute_result",
          "data": {
            "text/plain": [
              "False"
            ]
          },
          "metadata": {},
          "execution_count": 93
        }
      ],
      "source": [
        "num1 = 10; num2 = 20;\n",
        "\n",
        "num1 == 10 and num2 > 100 and 99\n",
        "# will return False since the second condition is Fals"
      ]
    },
    {
      "cell_type": "code",
      "execution_count": 94,
      "metadata": {
        "id": "hqisv2RrNBVD",
        "colab": {
          "base_uri": "https://localhost:8080/"
        },
        "outputId": "5833b7e3-31a1-4127-8cef-47d98bf38605"
      },
      "outputs": [
        {
          "output_type": "stream",
          "name": "stdout",
          "text": [
            "True\n",
            "10\n"
          ]
        }
      ],
      "source": [
        "a = 10\n",
        "b = 5\n",
        "x = a > b\n",
        "print (x) # true\n",
        "x = a > b and 10\n",
        "print (x) # 10"
      ]
    },
    {
      "cell_type": "code",
      "execution_count": 95,
      "metadata": {
        "id": "1pLCZ_pENBVD",
        "colab": {
          "base_uri": "https://localhost:8080/"
        },
        "outputId": "0f1b6417-32c6-44ee-b76c-d8d965825a58"
      },
      "outputs": [
        {
          "output_type": "stream",
          "name": "stdout",
          "text": [
            "10\n"
          ]
        }
      ],
      "source": [
        "a = 10\n",
        "b = 5\n",
        "x = a > b and 10 or 11\n",
        "print (x)"
      ]
    },
    {
      "cell_type": "code",
      "execution_count": 96,
      "metadata": {
        "id": "yf3m5_1FNBVD",
        "colab": {
          "base_uri": "https://localhost:8080/"
        },
        "outputId": "ae6769a7-54b5-42fd-905d-9b3cd7593af0"
      },
      "outputs": [
        {
          "output_type": "stream",
          "name": "stdout",
          "text": [
            "[2, 4]\n"
          ]
        }
      ],
      "source": [
        "l1 = [1,2,3,4,5]\n",
        "\n",
        "even = [ i for i in l1 if i % 2 ==0]\n",
        "print (even)"
      ]
    },
    {
      "cell_type": "markdown",
      "metadata": {
        "id": "1l9zk5SZNBVD"
      },
      "source": [
        "#### <p style=\"font-family: Arial; font-size:1.4em; background-color: yellow; color:black;\"> Problem #5.3 </p>\n",
        "#### Complete the code to set the flag variable to 0 if num is less than 0 otherwise set it to 1\n",
        "\n",
        "> 👉 Use the short-hand if statement  \n",
        "```\n",
        "# the same if-statement\n",
        "if num < 0:\n",
        "    flag = 0\n",
        "else:\n",
        "    flag = 1\n",
        "```\n"
      ]
    },
    {
      "cell_type": "code",
      "execution_count": 98,
      "metadata": {
        "id": "Hsj57xwLNBVD",
        "colab": {
          "base_uri": "https://localhost:8080/"
        },
        "outputId": "5d7e3bda-cee2-406d-9ff0-de6aaa034b70"
      },
      "outputs": [
        {
          "output_type": "stream",
          "name": "stdout",
          "text": [
            "Enter a num: 5\n",
            "1\n"
          ]
        }
      ],
      "source": [
        "num = int(input('Enter a num: '))\n",
        "\n",
        "flag = 0 if num < 0 else 1 # complete this code\n",
        "print(flag)"
      ]
    },
    {
      "cell_type": "markdown",
      "metadata": {
        "id": "yt8pOJfMNBVD"
      },
      "source": [
        "## Don't forget to <font color='red'> **\"commit\"** </font> your work or <font color='red'> **\"save\"** </font> in Google Colab\n",
        "## before moving to the next section."
      ]
    },
    {
      "cell_type": "markdown",
      "metadata": {
        "id": "qvtHKoiBNBVD"
      },
      "source": [
        "***\n",
        "# <p style=\"font-family:Arial; font-size:1.4em;color:Red;\"> 6. Comparing Strings </p>\n"
      ]
    },
    {
      "cell_type": "markdown",
      "metadata": {
        "id": "xdyzQV85NBVD"
      },
      "source": [
        "#### <p style=\"font-family: Arial; font-size:1.4em; background-color: yellow; color:black;\"> Problem #6.1 </p>\n",
        "#### Run the following code cell and check out the result\n",
        "\n",
        "> 👉 String value comparison"
      ]
    },
    {
      "cell_type": "markdown",
      "metadata": {
        "id": "0Sd4INGKNBVE"
      },
      "source": [
        "#### Alphabetical order comparison"
      ]
    },
    {
      "cell_type": "code",
      "execution_count": 99,
      "metadata": {
        "id": "ID1OOlJWNBVE",
        "colab": {
          "base_uri": "https://localhost:8080/"
        },
        "outputId": "f6852615-adcc-4ffc-9de7-2993dd55a9e8"
      },
      "outputs": [
        {
          "output_type": "stream",
          "name": "stdout",
          "text": [
            "Mary  is greater than or equal to Macy\n"
          ]
        }
      ],
      "source": [
        "name1 = 'Mary'\n",
        "name2 = 'Macy'\n",
        "\n",
        "if name1 < name2:\n",
        "\tprint (f'{name1}  is less than {name2}')\n",
        "else:\n",
        "\tprint (f'{name1}  is greater than or equal to {name2}')\n",
        "\n"
      ]
    },
    {
      "cell_type": "code",
      "execution_count": 100,
      "metadata": {
        "id": "CehWtl-2NBVE",
        "outputId": "98b92992-fd57-44b1-eedc-076bd5e9054b",
        "colab": {
          "base_uri": "https://localhost:8080/"
        }
      },
      "outputs": [
        {
          "output_type": "stream",
          "name": "stdout",
          "text": [
            "Mary  is less than or equal to Nancy\n"
          ]
        }
      ],
      "source": [
        "name1 = \"Mary\"\n",
        "name2 = \"Nancy\"\n",
        "\n",
        "if (name1 > name2):\n",
        "\tprint (f'{name1}  is greater than {name2}')\n",
        "else:\n",
        "\tprint (f'{name1}  is less than or equal to {name2}')\n"
      ]
    },
    {
      "cell_type": "markdown",
      "metadata": {
        "id": "jm9Q64A8NBVE"
      },
      "source": [
        "#### <p style=\"font-family: Arial; font-size:1.4em; background-color: yellow; color:black;\"> Problem #6.2 </p>\n",
        "#### Run the following code cell and check out the result\n",
        "\n",
        "> 👉 String value comparison\n",
        "\n",
        "#### String comparison by the \"length\""
      ]
    },
    {
      "cell_type": "code",
      "execution_count": 101,
      "metadata": {
        "id": "fbSdBZgfNBVE",
        "colab": {
          "base_uri": "https://localhost:8080/"
        },
        "outputId": "ab4268fc-6f8d-449f-f814-56a5177a0445"
      },
      "outputs": [
        {
          "output_type": "stream",
          "name": "stdout",
          "text": [
            "Mary  is shorter than Mariella\n"
          ]
        }
      ],
      "source": [
        "name1 = 'Mary'\n",
        "name2 = 'Mariella'\n",
        "\n",
        "if len(name1) < len(name2):\n",
        "\tprint (f'{name1}  is shorter than {name2}')\n",
        "else:\n",
        "\tprint (f'{name1}  is longer than or equal to {name2}')\n",
        "\n"
      ]
    },
    {
      "cell_type": "markdown",
      "metadata": {
        "id": "UmdJcouGNBVE"
      },
      "source": [
        "#### <p style=\"font-family: Arial; font-size:1.4em; background-color: yellow; color:black;\"> Problem #6.3 </p>\n",
        "#### Run the following code cell and check out the result\n",
        "\n",
        "> 👉 String Library functions  \n"
      ]
    },
    {
      "cell_type": "markdown",
      "metadata": {
        "id": "AGWrQQKoNBVE"
      },
      "source": [
        "### String Library Functions\n",
        "<a href=\"https://docs.python.org/3/library/string.html\"> Python Documents for String </a>\n",
        "\n",
        "\n",
        "\n",
        "<a href=\"https://docs.python.org/3/library/stdtypes.html#string-methods\"> String Methods\n",
        "<br>\n",
        "</a>\n",
        "<a href=\"https://www.w3schools.com/python/python_ref_string.asp\"> W3 School </a>\n",
        "\n",
        "<img src=\"https://nimbus-screenshots.s3.amazonaws.com/s/4ac262e3ba568032f7992d4556be2443.png\">\n",
        "\n"
      ]
    },
    {
      "cell_type": "code",
      "execution_count": 102,
      "metadata": {
        "id": "8bnm_vnrNBVE",
        "colab": {
          "base_uri": "https://localhost:8080/"
        },
        "outputId": "204d3b9c-6272-4752-f3b2-e263b26bffaa"
      },
      "outputs": [
        {
          "output_type": "execute_result",
          "data": {
            "text/plain": [
              "False"
            ]
          },
          "metadata": {},
          "execution_count": 102
        }
      ],
      "source": [
        "'BANANA'.isupper()\n",
        "\n",
        "'banana'.isupper()\n",
        "\n",
        "'baNana'.isupper()\n",
        "\n",
        "' '.isupper()"
      ]
    },
    {
      "cell_type": "code",
      "execution_count": 103,
      "metadata": {
        "id": "UA3N_ldbNBVF",
        "colab": {
          "base_uri": "https://localhost:8080/",
          "height": 35
        },
        "outputId": "2cf0a4eb-d5fa-430a-b997-ff08e3d5cec4"
      },
      "outputs": [
        {
          "output_type": "execute_result",
          "data": {
            "text/plain": [
              "'three!'"
            ],
            "application/vnd.google.colaboratory.intrinsic+json": {
              "type": "string"
            }
          },
          "metadata": {},
          "execution_count": 103
        }
      ],
      "source": [
        "\n",
        "'   spacious   '.lstrip()\n",
        "\n",
        "'www.example.com'.lstrip('cmowz.')\n",
        "\n",
        "'Arthur: three!'.lstrip('Arthur: ')\n",
        "\n",
        "'Arthur: three!'.removeprefix('Arthur: ')"
      ]
    },
    {
      "cell_type": "code",
      "execution_count": 104,
      "metadata": {
        "id": "sHUlnHaiNBVF",
        "colab": {
          "base_uri": "https://localhost:8080/"
        },
        "outputId": "77fac016-e22c-4dcd-eb49-b894c7dcfff8"
      },
      "outputs": [
        {
          "output_type": "stream",
          "name": "stdout",
          "text": [
            "name@company\n",
            "company.com\n",
            "name@company.com\n"
          ]
        }
      ],
      "source": [
        "email_str = \"name@company.com\"\n",
        "result1 = email_str.rstrip(\".com\" )\n",
        "result2 = email_str.lstrip(\"name@\")\n",
        "print (result1)\n",
        "print (result2)\n",
        "print (email_str)"
      ]
    },
    {
      "cell_type": "code",
      "execution_count": 105,
      "metadata": {
        "id": "eZp3-WkxNBVF",
        "colab": {
          "base_uri": "https://localhost:8080/"
        },
        "outputId": "d6fa0d79-dd42-45ad-fdd1-dfa042879a43"
      },
      "outputs": [
        {
          "output_type": "stream",
          "name": "stdout",
          "text": [
            "4\n",
            "@company.com\n",
            "@c\n",
            "@company.com\n",
            "@company.com\n",
            "@company.com\n"
          ]
        }
      ],
      "source": [
        "email_str = \"name@company.com\"\n",
        "idx = email_str.find('@')\n",
        "print (idx)\n",
        "\n",
        "company_name = email_str[idx:len(email_str)]\n",
        "print (company_name)\n",
        "email_id = email_str[:idx]\n",
        "\n",
        "\n",
        "\n",
        "print (email_str[4:6])\n",
        "print (email_str[4:16])\n",
        "last_idx = len(email_str)\n",
        "print (email_str[4:last_idx])\n",
        "print (email_str[4:])\n"
      ]
    },
    {
      "cell_type": "code",
      "execution_count": 106,
      "metadata": {
        "id": "EUHzGq2uNBVF",
        "colab": {
          "base_uri": "https://localhost:8080/",
          "height": 35
        },
        "outputId": "3a7558e6-da18-4c41-f46e-12ee3d79aeb1"
      },
      "outputs": [
        {
          "output_type": "execute_result",
          "data": {
            "text/plain": [
              "'Monty'"
            ],
            "application/vnd.google.colaboratory.intrinsic+json": {
              "type": "string"
            }
          },
          "metadata": {},
          "execution_count": 106
        }
      ],
      "source": [
        "\n",
        "'   spacious   '.rstrip()\n",
        "\n",
        "'mississippi'.rstrip('ipz')\n",
        "\n",
        "'Monty Python'.rstrip(' Python')\n",
        "\n",
        "'Monty Python'.removesuffix(' Python')"
      ]
    },
    {
      "cell_type": "code",
      "execution_count": 107,
      "metadata": {
        "id": "JGfTi7UBNBVF",
        "colab": {
          "base_uri": "https://localhost:8080/",
          "height": 35
        },
        "outputId": "5eb7c214-fb9f-44a9-eae7-b3dde91310d7"
      },
      "outputs": [
        {
          "output_type": "execute_result",
          "data": {
            "text/plain": [
              "'example'"
            ],
            "application/vnd.google.colaboratory.intrinsic+json": {
              "type": "string"
            }
          },
          "metadata": {},
          "execution_count": 107
        }
      ],
      "source": [
        "\n",
        "\n",
        "'1,2,3'.split(',')\n",
        "\n",
        "'1,2,3'.split(',', maxsplit=1)\n",
        "\n",
        "'1,2,,3,'.split(',')\n",
        "\n",
        "'1 2 3'.split()\n",
        "\n",
        "'1 2 3'.split(maxsplit=1)\n",
        "\n",
        "'   1   2   3   '.split()\n",
        "\n",
        "'   spacious   '.strip()\n",
        "\n",
        "'www.example.com'.strip('cmowz.')\n",
        "\n"
      ]
    },
    {
      "cell_type": "code",
      "execution_count": 112,
      "metadata": {
        "id": "2jVkP7mYNBVF",
        "colab": {
          "base_uri": "https://localhost:8080/",
          "height": 297
        },
        "outputId": "18166714-3305-4061-da97-c9bf670933d7"
      },
      "outputs": [
        {
          "name": "stdout",
          "output_type": "stream",
          "text": [
            "Enter two numbers5 89\n",
            "5 89\n",
            "5\n",
            "89\n",
            "Enter two numbers87 6\n"
          ]
        },
        {
          "output_type": "error",
          "ename": "TypeError",
          "evalue": "int() argument must be a string, a bytes-like object or a real number, not 'list'",
          "traceback": [
            "\u001b[0;31m---------------------------------------------------------------------------\u001b[0m",
            "\u001b[0;31mTypeError\u001b[0m                                 Traceback (most recent call last)",
            "\u001b[0;32m/tmp/ipython-input-3707962041.py\u001b[0m in \u001b[0;36m<cell line: 0>\u001b[0;34m()\u001b[0m\n\u001b[1;32m      5\u001b[0m \u001b[0mprint\u001b[0m \u001b[0;34m(\u001b[0m\u001b[0mint\u001b[0m\u001b[0;34m(\u001b[0m\u001b[0my\u001b[0m\u001b[0;34m)\u001b[0m\u001b[0;34m)\u001b[0m\u001b[0;34m\u001b[0m\u001b[0;34m\u001b[0m\u001b[0m\n\u001b[1;32m      6\u001b[0m \u001b[0;34m\u001b[0m\u001b[0m\n\u001b[0;32m----> 7\u001b[0;31m \u001b[0mx\u001b[0m\u001b[0;34m,\u001b[0m\u001b[0my\u001b[0m \u001b[0;34m=\u001b[0m \u001b[0mint\u001b[0m\u001b[0;34m(\u001b[0m\u001b[0minput\u001b[0m\u001b[0;34m(\u001b[0m\u001b[0;34m'Enter two numbers'\u001b[0m\u001b[0;34m)\u001b[0m\u001b[0;34m.\u001b[0m\u001b[0msplit\u001b[0m\u001b[0;34m(\u001b[0m\u001b[0;34m)\u001b[0m\u001b[0;34m)\u001b[0m\u001b[0;34m\u001b[0m\u001b[0;34m\u001b[0m\u001b[0m\n\u001b[0m\u001b[1;32m      8\u001b[0m \u001b[0mprint\u001b[0m \u001b[0;34m(\u001b[0m\u001b[0mint\u001b[0m\u001b[0;34m(\u001b[0m\u001b[0mx\u001b[0m\u001b[0;34m)\u001b[0m\u001b[0;34m)\u001b[0m\u001b[0;34m\u001b[0m\u001b[0;34m\u001b[0m\u001b[0m\n\u001b[1;32m      9\u001b[0m \u001b[0mprint\u001b[0m \u001b[0;34m(\u001b[0m\u001b[0mint\u001b[0m\u001b[0;34m(\u001b[0m\u001b[0my\u001b[0m\u001b[0;34m)\u001b[0m\u001b[0;34m)\u001b[0m\u001b[0;34m\u001b[0m\u001b[0;34m\u001b[0m\u001b[0m\n",
            "\u001b[0;31mTypeError\u001b[0m: int() argument must be a string, a bytes-like object or a real number, not 'list'"
          ]
        }
      ],
      "source": [
        "input_str = input('Enter two numbers')\n",
        "print (input_str)\n",
        "x,y = input_str.split()\n",
        "print (int(x))\n",
        "print (int(y))\n",
        "\n",
        "x,y = int(input('Enter two numbers').split())\n",
        "print (int(x))\n",
        "print (int(y))\n",
        "\n",
        "\n",
        "\n"
      ]
    },
    {
      "cell_type": "markdown",
      "metadata": {
        "id": "t3HRNZBVNBVF"
      },
      "source": [
        "<a href=\"https://docs.python.org/3/library/string.html\">\n",
        "\n",
        "\n",
        "<img src=\"https://nimbus-screenshots.s3.amazonaws.com/s/ebc2ce4ebcd9fa90a90f988674b16c1f.png\">\n",
        "\n",
        "</a>"
      ]
    }
  ],
  "metadata": {
    "kernelspec": {
      "display_name": "base",
      "language": "python",
      "name": "python3"
    },
    "language_info": {
      "codemirror_mode": {
        "name": "ipython",
        "version": 3
      },
      "file_extension": ".py",
      "mimetype": "text/x-python",
      "name": "python",
      "nbconvert_exporter": "python",
      "pygments_lexer": "ipython3",
      "version": "3.9.17"
    },
    "orig_nbformat": 4,
    "vscode": {
      "interpreter": {
        "hash": "32cd87c0c55905266dc8232ebf1148f668af0d9324249c125246585210a29cd6"
      }
    },
    "colab": {
      "provenance": [],
      "collapsed_sections": [
        "7qz_XPilNBUt",
        "2kIsRufJNBUx",
        "Na8G3ivENBUy",
        "xWdrihuLNBU8",
        "k0nroTFcNBVA"
      ],
      "include_colab_link": true
    }
  },
  "nbformat": 4,
  "nbformat_minor": 0
}