{
  "nbformat": 4,
  "nbformat_minor": 0,
  "metadata": {
    "colab": {
      "provenance": [],
      "authorship_tag": "ABX9TyPNxG2cGVV1lxp2784arc5B",
      "include_colab_link": true
    },
    "kernelspec": {
      "name": "python3",
      "display_name": "Python 3"
    },
    "language_info": {
      "name": "python"
    }
  },
  "cells": [
    {
      "cell_type": "markdown",
      "metadata": {
        "id": "view-in-github",
        "colab_type": "text"
      },
      "source": [
        "<a href=\"https://colab.research.google.com/github/mehernandez87/CIS110-SU25/blob/main/Google_Collab_Lab.ipynb\" target=\"_parent\"><img src=\"https://colab.research.google.com/assets/colab-badge.svg\" alt=\"Open In Colab\"/></a>"
      ]
    },
    {
      "cell_type": "markdown",
      "source": [
        "Lab 1 Markdown Syntax"
      ],
      "metadata": {
        "id": "v4o863VJHPWj"
      }
    },
    {
      "cell_type": "code",
      "execution_count": null,
      "metadata": {
        "colab": {
          "base_uri": "https://localhost:8080/"
        },
        "id": "ESgNH_ht-ykT",
        "outputId": "cb0597ea-4281-4a6a-c7ef-df723e1b2344"
      },
      "outputs": [
        {
          "output_type": "stream",
          "name": "stdout",
          "text": [
            "Hello World!\n"
          ]
        }
      ],
      "source": [
        "print (\"Hello World!\")"
      ]
    },
    {
      "cell_type": "markdown",
      "source": [
        "**bold text**\n",
        "\n",
        "*italicized text*\n",
        "\n",
        "`Monospace`\n",
        "\n",
        "~~strikethrough~~\n",
        "\n",
        "[A link](https://www.google.com)\n",
        "\n",
        "![An image](data:image/jpeg;base64,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)\n",
        "\n"
      ],
      "metadata": {
        "id": "ZRXT3EJvBnzJ"
      }
    },
    {
      "cell_type": "code",
      "source": [],
      "metadata": {
        "id": "gtfkHoyUArpi"
      },
      "execution_count": null,
      "outputs": []
    },
    {
      "cell_type": "markdown",
      "source": [
        "| First column name | Second column name |\n",
        "|-------------------|--------------------|\n",
        "| Row 1, Col 1      | Row 1, Col 2       |\n",
        "| Row 2, Col 1      | Row 2, Col 2       |"
      ],
      "metadata": {
        "id": "HdA-GYh-BV-S"
      }
    },
    {
      "cell_type": "markdown",
      "source": [
        "Lab 2 Markdown Syntax 2"
      ],
      "metadata": {
        "id": "EE_3kfW5HE3Z"
      }
    },
    {
      "cell_type": "markdown",
      "source": [
        "# Computer Science - CS\n",
        "Computer Science is one of the most sought-after degree programs in California Community Colleges, as well as the transfer institutions of California State Universities and University of California campuses. The popularity of this program stems from software developed for computer platforms on desktop PCs, notebooks, and mobile devices. The gaming industry has contributed to this exciting field with creating distinct and powerful games.\n",
        "\n",
        "\n",
        "![AVC Logo](https://www.avc.edu/themes/custom/antelopevc/logo.svg)\n",
        "\n",
        "[Antelope Valley College](https://www.avc.edu/)\n",
        "\n",
        "This program is designed to provide students with programming skills in various languages, for transfer to four-year universities as well as gaining access into industries across the world. This program provides our students a path to success.\n",
        "\n",
        "|Courses | Courses |\n",
        "|-------------------|--------------------|\n",
        "|[CS100 - Survey of Computer Science](https://avc.elumenapp.com/catalog/2023-24/course/cs100)      | [CS 110 - Introduction to Programming Concepts and Methodologies ](https://avc.elumenapp.com/catalog/2023-24/course/cs110)      |\n",
        "|[CS 120 - Programming and Algorithms in C/C++ ](https://avc.elumenapp.com/catalog/2023-24/course/cs120)| [CS 121 - Programming and Algorithms in Java](https://avc.elumenapp.com/catalog/2023-24/course/cs121)|\n",
        "|[CS 122 - Programming and Algorithms in Python ](https://avc.elumenapp.com/catalog/2023-24/course/cs122)| [CS 123 - Programming and Algorithms in C#](https://avc.elumenapp.com/catalog/2023-24/course/cs123)|\n",
        "|[CS 130 - Data Structures using C++](https://avc.elumenapp.com/catalog/2023-24/course/cs130)| [CS 131 - Data Structures using Java](https://avc.elumenapp.com/catalog/2023-24/course/cs131)|\n",
        "|[CS 132 - Data Structures using Python](https://avc.elumenapp.com/catalog/2023-24/course/cs132) | [CS 140 - Assembly Language and Computer Architecture](https://avc.elumenapp.com/catalog/2023-24/course/cs140) |\n",
        "|[CS 150 - Discrete Structures](https://avc.elumenapp.com/catalog/2023-24/course/cs150) | [CS 230 - Advanced Programming and Algorithms in C++](https://avc.elumenapp.com/catalog/2023-24/course/cs230)|\n",
        "|[CS 231 - Advanced Programming and Algorithms in Java](https://avc.elumenapp.com/catalog/2023-24/course/cs231)|"
      ],
      "metadata": {
        "id": "IDqiWDEMHaMZ"
      }
    },
    {
      "cell_type": "markdown",
      "source": [
        "Lab 3 Markdown Syntax 3"
      ],
      "metadata": {
        "id": "Dq64DgRYOsJf"
      }
    },
    {
      "cell_type": "markdown",
      "source": [
        "**The Cauchy-Schwarz Inequality**\n",
        "$$\\left( \\sum_{k=1}^n a_k b_k \\right)^2 \\leq \\left( \\sum_{k=1}^n a_k^2 \\right) \\left( \\sum_{k=1}^n b_k^2 \\right)$$"
      ],
      "metadata": {
        "id": "wpyQjpuXO1us"
      }
    },
    {
      "cell_type": "markdown",
      "source": [
        "According to StackExchange’s Mathematics Meta\n",
        "\n",
        "`$$...$$` - use this delimiter to display formulas in a larger font size that is centered and separate from surrounding text.\n",
        "\n",
        "`\\left( … \\right)`  auto sizing for parentheses and brackets, otherwise, they’ll be too small compared to the rest of the numerical font.\n",
        "\n",
        "`\\sum` sigma symbol\n",
        "\n",
        "`_ `  subscript\n",
        "\n",
        "`^` superscript\n",
        "\n",
        "`\\leq` inequality sign; less than or equal to.\n",
        "\n",
        "Note- spaces are ignored in LaTeX math mode, but it makes it easier to read the equation\n"
      ],
      "metadata": {
        "id": "bjmW-LW1UEZz"
      }
    },
    {
      "cell_type": "markdown",
      "source": [
        "Code Cell\n"
      ],
      "metadata": {
        "id": "rDlmtDkWdK4y"
      }
    },
    {
      "cell_type": "code",
      "source": [
        "userval = input('Enter your input')\n",
        "print (userval)\n"
      ],
      "metadata": {
        "colab": {
          "base_uri": "https://localhost:8080/"
        },
        "id": "CWJhtQmjdRiZ",
        "outputId": "6430b045-d629-452d-db01-ac8f84b5e8a4"
      },
      "execution_count": null,
      "outputs": [
        {
          "output_type": "stream",
          "name": "stdout",
          "text": [
            "Enter your inputtest\n",
            "test\n"
          ]
        }
      ]
    },
    {
      "cell_type": "markdown",
      "source": [
        "`userval = input('Enter your input')\n",
        "print (userval)`\n",
        "\n",
        "This command has to be entered in a code input box. After entering the code, you run the cell (play button to the left or shift+enter), and the script will run creating an input box where the user can input text. The output generates right below it."
      ],
      "metadata": {
        "id": "HKR06Ky0dhYL"
      }
    },
    {
      "cell_type": "markdown",
      "source": [
        "Lab 4 Python Code Input"
      ],
      "metadata": {
        "id": "KPmbfI_UeRCJ"
      }
    },
    {
      "cell_type": "code",
      "source": [
        "for i in range(5):\n",
        "    userval = input('Enter your input')\n",
        "    print (userval)"
      ],
      "metadata": {
        "colab": {
          "base_uri": "https://localhost:8080/"
        },
        "id": "Iy0wCnWqeWoc",
        "outputId": "cefaaaac-d434-4792-8419-4a32b9a78f8d"
      },
      "execution_count": null,
      "outputs": [
        {
          "output_type": "stream",
          "name": "stdout",
          "text": [
            "Enter your inputSummer 2025\n",
            "Summer 2025\n",
            "Enter your inputCS 110\n",
            "CS 110\n",
            "Enter your inputIntroduction to Programming Concepts and Methodologies\n",
            "Introduction to Programming Concepts and Methodologies\n",
            "Enter your inputCRN# 53269\n",
            "CRN# 53269\n",
            "Enter your inputProfessor Lee\n",
            "Professor Lee\n"
          ]
        }
      ]
    },
    {
      "cell_type": "markdown",
      "source": [
        "Lab 5 Python Code Collab"
      ],
      "metadata": {
        "id": "WqlPD5d5kSPO"
      }
    },
    {
      "cell_type": "code",
      "source": [
        "total = 0\n",
        "for i in range(5):\n",
        "    breakpoint()\n",
        "    total += i\n",
        "    print (total)"
      ],
      "metadata": {
        "colab": {
          "base_uri": "https://localhost:8080/"
        },
        "id": "Ym6NzfgJuPQr",
        "outputId": "9edd299d-b679-43e8-9763-f1fdacd2597f"
      },
      "execution_count": null,
      "outputs": [
        {
          "output_type": "stream",
          "name": "stderr",
          "text": [
            "\n",
            "PYDEV DEBUGGER WARNING:\n",
            "sys.settrace() should not be used when the debugger is being used.\n",
            "This may cause the debugger to stop working correctly.\n",
            "If this is needed, please check: \n",
            "http://pydev.blogspot.com/2007/06/why-cant-pydev-debugger-work-with.html\n",
            "to see how to restore the debug tracing back correctly.\n",
            "Call Location:\n",
            "  File \"/usr/lib/python3.11/bdb.py\", line 336, in set_trace\n",
            "    sys.settrace(self.trace_dispatch)\n",
            "\n"
          ]
        },
        {
          "name": "stdout",
          "output_type": "stream",
          "text": [
            "> \u001b[0;32m/tmp/ipython-input-6-998706149.py\u001b[0m(4)\u001b[0;36m<cell line: 0>\u001b[0;34m()\u001b[0m\n",
            "\u001b[0;32m      1 \u001b[0;31m\u001b[0mtotal\u001b[0m \u001b[0;34m=\u001b[0m \u001b[0;36m0\u001b[0m\u001b[0;34m\u001b[0m\u001b[0;34m\u001b[0m\u001b[0m\n",
            "\u001b[0m\u001b[0;32m      2 \u001b[0;31m\u001b[0;32mfor\u001b[0m \u001b[0mi\u001b[0m \u001b[0;32min\u001b[0m \u001b[0mrange\u001b[0m\u001b[0;34m(\u001b[0m\u001b[0;36m5\u001b[0m\u001b[0;34m)\u001b[0m\u001b[0;34m:\u001b[0m\u001b[0;34m\u001b[0m\u001b[0;34m\u001b[0m\u001b[0m\n",
            "\u001b[0m\u001b[0;32m      3 \u001b[0;31m    \u001b[0mbreakpoint\u001b[0m\u001b[0;34m(\u001b[0m\u001b[0;34m)\u001b[0m\u001b[0;34m\u001b[0m\u001b[0;34m\u001b[0m\u001b[0m\n",
            "\u001b[0m\u001b[0;32m----> 4 \u001b[0;31m    \u001b[0mtotal\u001b[0m \u001b[0;34m+=\u001b[0m \u001b[0mi\u001b[0m\u001b[0;34m\u001b[0m\u001b[0;34m\u001b[0m\u001b[0m\n",
            "\u001b[0m\u001b[0;32m      5 \u001b[0;31m    \u001b[0mprint\u001b[0m \u001b[0;34m(\u001b[0m\u001b[0mtotal\u001b[0m\u001b[0;34m)\u001b[0m\u001b[0;34m\u001b[0m\u001b[0;34m\u001b[0m\u001b[0m\n",
            "\u001b[0m\n",
            "ipdb> p i, total\n",
            "(0, 0)\n",
            "ipdb> c\n"
          ]
        },
        {
          "output_type": "stream",
          "name": "stderr",
          "text": [
            "\n",
            "PYDEV DEBUGGER WARNING:\n",
            "sys.settrace() should not be used when the debugger is being used.\n",
            "This may cause the debugger to stop working correctly.\n",
            "If this is needed, please check: \n",
            "http://pydev.blogspot.com/2007/06/why-cant-pydev-debugger-work-with.html\n",
            "to see how to restore the debug tracing back correctly.\n",
            "Call Location:\n",
            "  File \"/usr/lib/python3.11/bdb.py\", line 347, in set_continue\n",
            "    sys.settrace(None)\n",
            "\n"
          ]
        },
        {
          "output_type": "stream",
          "name": "stdout",
          "text": [
            "0\n",
            "> \u001b[0;32m/tmp/ipython-input-6-998706149.py\u001b[0m(4)\u001b[0;36m<cell line: 0>\u001b[0;34m()\u001b[0m\n",
            "\u001b[0;32m      1 \u001b[0;31m\u001b[0mtotal\u001b[0m \u001b[0;34m=\u001b[0m \u001b[0;36m0\u001b[0m\u001b[0;34m\u001b[0m\u001b[0;34m\u001b[0m\u001b[0m\n",
            "\u001b[0m\u001b[0;32m      2 \u001b[0;31m\u001b[0;32mfor\u001b[0m \u001b[0mi\u001b[0m \u001b[0;32min\u001b[0m \u001b[0mrange\u001b[0m\u001b[0;34m(\u001b[0m\u001b[0;36m5\u001b[0m\u001b[0;34m)\u001b[0m\u001b[0;34m:\u001b[0m\u001b[0;34m\u001b[0m\u001b[0;34m\u001b[0m\u001b[0m\n",
            "\u001b[0m\u001b[0;32m      3 \u001b[0;31m    \u001b[0mbreakpoint\u001b[0m\u001b[0;34m(\u001b[0m\u001b[0;34m)\u001b[0m\u001b[0;34m\u001b[0m\u001b[0;34m\u001b[0m\u001b[0m\n",
            "\u001b[0m\u001b[0;32m----> 4 \u001b[0;31m    \u001b[0mtotal\u001b[0m \u001b[0;34m+=\u001b[0m \u001b[0mi\u001b[0m\u001b[0;34m\u001b[0m\u001b[0;34m\u001b[0m\u001b[0m\n",
            "\u001b[0m\u001b[0;32m      5 \u001b[0;31m    \u001b[0mprint\u001b[0m \u001b[0;34m(\u001b[0m\u001b[0mtotal\u001b[0m\u001b[0;34m)\u001b[0m\u001b[0;34m\u001b[0m\u001b[0;34m\u001b[0m\u001b[0m\n",
            "\u001b[0m\n",
            "ipdb> p i, total\n",
            "(1, 0)\n",
            "ipdb> c\n",
            "1\n",
            "> \u001b[0;32m/tmp/ipython-input-6-998706149.py\u001b[0m(4)\u001b[0;36m<cell line: 0>\u001b[0;34m()\u001b[0m\n",
            "\u001b[0;32m      1 \u001b[0;31m\u001b[0mtotal\u001b[0m \u001b[0;34m=\u001b[0m \u001b[0;36m0\u001b[0m\u001b[0;34m\u001b[0m\u001b[0;34m\u001b[0m\u001b[0m\n",
            "\u001b[0m\u001b[0;32m      2 \u001b[0;31m\u001b[0;32mfor\u001b[0m \u001b[0mi\u001b[0m \u001b[0;32min\u001b[0m \u001b[0mrange\u001b[0m\u001b[0;34m(\u001b[0m\u001b[0;36m5\u001b[0m\u001b[0;34m)\u001b[0m\u001b[0;34m:\u001b[0m\u001b[0;34m\u001b[0m\u001b[0;34m\u001b[0m\u001b[0m\n",
            "\u001b[0m\u001b[0;32m      3 \u001b[0;31m    \u001b[0mbreakpoint\u001b[0m\u001b[0;34m(\u001b[0m\u001b[0;34m)\u001b[0m\u001b[0;34m\u001b[0m\u001b[0;34m\u001b[0m\u001b[0m\n",
            "\u001b[0m\u001b[0;32m----> 4 \u001b[0;31m    \u001b[0mtotal\u001b[0m \u001b[0;34m+=\u001b[0m \u001b[0mi\u001b[0m\u001b[0;34m\u001b[0m\u001b[0;34m\u001b[0m\u001b[0m\n",
            "\u001b[0m\u001b[0;32m      5 \u001b[0;31m    \u001b[0mprint\u001b[0m \u001b[0;34m(\u001b[0m\u001b[0mtotal\u001b[0m\u001b[0;34m)\u001b[0m\u001b[0;34m\u001b[0m\u001b[0;34m\u001b[0m\u001b[0m\n",
            "\u001b[0m\n",
            "ipdb> p i, total\n",
            "(2, 1)\n",
            "ipdb> c\n",
            "3\n",
            "> \u001b[0;32m/tmp/ipython-input-6-998706149.py\u001b[0m(4)\u001b[0;36m<cell line: 0>\u001b[0;34m()\u001b[0m\n",
            "\u001b[0;32m      1 \u001b[0;31m\u001b[0mtotal\u001b[0m \u001b[0;34m=\u001b[0m \u001b[0;36m0\u001b[0m\u001b[0;34m\u001b[0m\u001b[0;34m\u001b[0m\u001b[0m\n",
            "\u001b[0m\u001b[0;32m      2 \u001b[0;31m\u001b[0;32mfor\u001b[0m \u001b[0mi\u001b[0m \u001b[0;32min\u001b[0m \u001b[0mrange\u001b[0m\u001b[0;34m(\u001b[0m\u001b[0;36m5\u001b[0m\u001b[0;34m)\u001b[0m\u001b[0;34m:\u001b[0m\u001b[0;34m\u001b[0m\u001b[0;34m\u001b[0m\u001b[0m\n",
            "\u001b[0m\u001b[0;32m      3 \u001b[0;31m    \u001b[0mbreakpoint\u001b[0m\u001b[0;34m(\u001b[0m\u001b[0;34m)\u001b[0m\u001b[0;34m\u001b[0m\u001b[0;34m\u001b[0m\u001b[0m\n",
            "\u001b[0m\u001b[0;32m----> 4 \u001b[0;31m    \u001b[0mtotal\u001b[0m \u001b[0;34m+=\u001b[0m \u001b[0mi\u001b[0m\u001b[0;34m\u001b[0m\u001b[0;34m\u001b[0m\u001b[0m\n",
            "\u001b[0m\u001b[0;32m      5 \u001b[0;31m    \u001b[0mprint\u001b[0m \u001b[0;34m(\u001b[0m\u001b[0mtotal\u001b[0m\u001b[0;34m)\u001b[0m\u001b[0;34m\u001b[0m\u001b[0;34m\u001b[0m\u001b[0m\n",
            "\u001b[0m\n",
            "ipdb> p i, total\n",
            "(3, 3)\n",
            "ipdb> c\n",
            "6\n",
            "> \u001b[0;32m/tmp/ipython-input-6-998706149.py\u001b[0m(4)\u001b[0;36m<cell line: 0>\u001b[0;34m()\u001b[0m\n",
            "\u001b[0;32m      1 \u001b[0;31m\u001b[0mtotal\u001b[0m \u001b[0;34m=\u001b[0m \u001b[0;36m0\u001b[0m\u001b[0;34m\u001b[0m\u001b[0;34m\u001b[0m\u001b[0m\n",
            "\u001b[0m\u001b[0;32m      2 \u001b[0;31m\u001b[0;32mfor\u001b[0m \u001b[0mi\u001b[0m \u001b[0;32min\u001b[0m \u001b[0mrange\u001b[0m\u001b[0;34m(\u001b[0m\u001b[0;36m5\u001b[0m\u001b[0;34m)\u001b[0m\u001b[0;34m:\u001b[0m\u001b[0;34m\u001b[0m\u001b[0;34m\u001b[0m\u001b[0m\n",
            "\u001b[0m\u001b[0;32m      3 \u001b[0;31m    \u001b[0mbreakpoint\u001b[0m\u001b[0;34m(\u001b[0m\u001b[0;34m)\u001b[0m\u001b[0;34m\u001b[0m\u001b[0;34m\u001b[0m\u001b[0m\n",
            "\u001b[0m\u001b[0;32m----> 4 \u001b[0;31m    \u001b[0mtotal\u001b[0m \u001b[0;34m+=\u001b[0m \u001b[0mi\u001b[0m\u001b[0;34m\u001b[0m\u001b[0;34m\u001b[0m\u001b[0m\n",
            "\u001b[0m\u001b[0;32m      5 \u001b[0;31m    \u001b[0mprint\u001b[0m \u001b[0;34m(\u001b[0m\u001b[0mtotal\u001b[0m\u001b[0;34m)\u001b[0m\u001b[0;34m\u001b[0m\u001b[0;34m\u001b[0m\u001b[0m\n",
            "\u001b[0m\n",
            "ipdb> p i, total\n",
            "(4, 6)\n",
            "ipdb> c\n",
            "10\n"
          ]
        }
      ]
    }
  ]
}